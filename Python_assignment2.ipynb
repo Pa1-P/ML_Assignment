{
 "cells": [
  {
   "cell_type": "code",
   "execution_count": 34,
   "id": "8fef2b0a",
   "metadata": {},
   "outputs": [
    {
     "name": "stdout",
     "output_type": "stream",
     "text": [
      "* \n",
      "\n",
      "* * \n",
      "\n",
      "* * * \n",
      "\n",
      "* * * * \n",
      "\n",
      "* * * * * \n",
      "\n",
      "* * * * \n",
      "\n",
      "* * * \n",
      "\n",
      "* * \n",
      "\n",
      "* \n",
      "\n"
     ]
    }
   ],
   "source": [
    "#Create the below pattern using nested for loop in Python.\n",
    "\n",
    "'''\n",
    "for i in range(6):\n",
    "    print('* '*i)\n",
    "for j in range(4):\n",
    "    print('* '*(4-j))\n",
    "'''\n",
    "\n",
    "for i in range(0, 4):\n",
    "    for j in range(0, i + 1):\n",
    "        print('* ' , end='')\n",
    "    print('\\n')\n",
    "for i in range(4, -1,-1):\n",
    "    for j in range(0, i + 1):\n",
    "        print('* ', end='')\n",
    "    print('\\n')    "
   ]
  },
  {
   "cell_type": "code",
   "execution_count": 37,
   "id": "0eb2a957",
   "metadata": {},
   "outputs": [
    {
     "name": "stdout",
     "output_type": "stream",
     "text": [
      "Enter the word: Pavan\n",
      "navaP"
     ]
    }
   ],
   "source": [
    "#Write a Python program to reverse a word after accepting the input from the user.\n",
    "\n",
    "a=str(input('Enter the word: '))\n",
    "\n",
    "for i in range(len(a)):\n",
    "    print(a[len(a)-i-1], end='')"
   ]
  }
 ],
 "metadata": {
  "kernelspec": {
   "display_name": "Python 3",
   "language": "python",
   "name": "python3"
  },
  "language_info": {
   "codemirror_mode": {
    "name": "ipython",
    "version": 3
   },
   "file_extension": ".py",
   "mimetype": "text/x-python",
   "name": "python",
   "nbconvert_exporter": "python",
   "pygments_lexer": "ipython3",
   "version": "3.8.8"
  }
 },
 "nbformat": 4,
 "nbformat_minor": 5
}
